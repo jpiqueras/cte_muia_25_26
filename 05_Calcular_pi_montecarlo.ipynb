{
 "cells": [
  {
   "cell_type": "markdown",
   "id": "982198e6",
   "metadata": {},
   "source": [
    "## Calcular pi con método Montecarlo"
   ]
  },
  {
   "cell_type": "code",
   "execution_count": null,
   "id": "9fc27f7c",
   "metadata": {},
   "outputs": [
    {
     "data": {
      "application/vnd.jupyter.widget-view+json": {
       "model_id": "8fe012ae0a734ad7a6943a6051178af4",
       "version_major": 2,
       "version_minor": 0
      },
      "text/plain": [
       "VBox(children=(HBox(children=(IntSlider(value=10, continuous_update=False, description='Puntos:', max=5000, mi…"
      ]
     },
     "execution_count": 1,
     "metadata": {},
     "output_type": "execute_result"
    }
   ],
   "source": [
    "import random\n",
    "import numpy as np\n",
    "import matplotlib.pyplot as plt\n",
    "import ipywidgets as widgets\n",
    "\n",
    "\n",
    "# Usamos un círculo de radio 1 centrado en el origen\n",
    "def dentro_del_circulo(x, y):\n",
    "    # True si el punto está en el círculo\n",
    "    return x**2 + y**2 <= 1\n",
    "\n",
    "# Generador de puntos aleatorios\n",
    "def generar_estadisticas(num_puntos: int, semilla: int):\n",
    "    random.seed(semilla)\n",
    "    np.random.seed(semilla)\n",
    "    puntos = [(random.uniform(-1, 1), random.uniform(-1, 1)) for _ in range(num_puntos)]\n",
    "\n",
    "    dentro = 0\n",
    "    estimaciones_pi = []\n",
    "    for i, (x, y) in enumerate(puntos):\n",
    "        if dentro_del_circulo(x, y):\n",
    "            dentro += 1\n",
    "\n",
    "        # pi = Area_rectangulo*(Num_puntos_dentro_circulo/Num_puntos_totales)\n",
    "        estimaciones_pi.append((dentro / (i + 1)) * 4)\n",
    "\n",
    "    return puntos, estimaciones_pi\n",
    "\n",
    "\n",
    "\n",
    "# Función para actualizar los gráficos\n",
    "def actualizar_graficos(num_puntos: int, semilla: str):\n",
    "\n",
    "    puntos, estimaciones_pi = generar_estadisticas(num_puntos, int(semilla))\n",
    "\n",
    "    fig, ejes = plt.subplots(1, 2, figsize=(14, 6))\n",
    "\n",
    "    # Gráfico izquierdo: puntos dentro/fuera del círculo\n",
    "    eje_circulo = ejes[0]\n",
    "    circulo = plt.Circle((0, 0), 1, color='blue', fill=False, linewidth=2)\n",
    "    eje_circulo.add_artist(circulo)\n",
    "    eje_circulo.set_xlim(-1, 1)\n",
    "    eje_circulo.set_ylim(-1, 1)\n",
    "    eje_circulo.set_aspect('equal', adjustable='box')\n",
    "    eje_circulo.set_title(f\"Distribución de puntos (π ≈ {estimaciones_pi[-1]:.4f})\")\n",
    "    eje_circulo.set_xlabel(\"x\")\n",
    "    eje_circulo.set_ylabel(\"y\")\n",
    "    eje_circulo.grid(True, alpha=0.3)\n",
    "\n",
    "    for x, y in puntos:\n",
    "        color = 'green' if dentro_del_circulo(x, y) else 'red'\n",
    "        eje_circulo.plot(x, y, 'o', color=color, markersize=4, alpha=0.7)\n",
    "\n",
    "    # Gráfico derecho: convergencia de la estimación de π\n",
    "    eje_convergencia = ejes[1]\n",
    "    eje_convergencia.plot(range(1, len(estimaciones_pi) + 1), estimaciones_pi, color='purple')\n",
    "    eje_convergencia.axhline(y=np.pi, color='r', linestyle='--', label='Valor real de π')\n",
    "    eje_convergencia.set_title(\"Convergencia hacia π\")\n",
    "    eje_convergencia.set_xlabel(\"Número de puntos\")\n",
    "    eje_convergencia.set_ylabel(\"Estimación de π\")\n",
    "    eje_convergencia.legend()\n",
    "    eje_convergencia.grid(True, alpha=0.3)\n",
    "\n",
    "    plt.tight_layout()\n",
    "    plt.show()\n",
    "\n",
    "\n",
    "# Widgets interactivos\n",
    "selector_puntos = widgets.IntSlider(\n",
    "    value=10,\n",
    "    min=10,\n",
    "    max=5000,\n",
    "    step=10,\n",
    "    description='Puntos:',\n",
    "    continuous_update=False\n",
    ")\n",
    "\n",
    "entrada_semilla = widgets.Text(\n",
    "    value='7732',\n",
    "    description='Semilla:',\n",
    "    placeholder='Introduce un entero o texto'\n",
    ")\n",
    "\n",
    "salida = widgets.interactive_output(\n",
    "    actualizar_graficos,\n",
    "    {\n",
    "        'num_puntos': selector_puntos,\n",
    "        'semilla': entrada_semilla\n",
    "    }\n",
    ")\n",
    "\n",
    "widgets.VBox([\n",
    "    widgets.HBox([selector_puntos, entrada_semilla]),\n",
    "    salida\n",
    "])"
   ]
  }
 ],
 "metadata": {
  "kernelspec": {
   "display_name": ".venv",
   "language": "python",
   "name": "python3"
  },
  "language_info": {
   "codemirror_mode": {
    "name": "ipython",
    "version": 3
   },
   "file_extension": ".py",
   "mimetype": "text/x-python",
   "name": "python",
   "nbconvert_exporter": "python",
   "pygments_lexer": "ipython3",
   "version": "3.13.8"
  }
 },
 "nbformat": 4,
 "nbformat_minor": 5
}
