{
 "cells": [
  {
   "cell_type": "markdown",
   "id": "ffc9d9fb",
   "metadata": {},
   "source": [
    "# Conducción 1D en estado estacionario sin generación de calor\n",
    "\n",
    "\n",
    "$$\n",
    "k \\,\\frac{d^2 T}{dx^2} = 0\n",
    "$$\n",
    "\n",
    "donde:\n",
    "- $k$ = conductividad térmica (constante).\n",
    "\n",
    "\n",
    "\n",
    "## Solución general\n",
    "Simplificando e integrando dos veces:\n",
    "\n",
    "$$\n",
    "\\frac{d^2 T}{dx^2} = 0\n",
    "$$\n",
    "\n",
    "\n",
    "$$\n",
    "T(x) = C_1 x + C_2\n",
    "$$\n",
    "\n",
    "\n",
    "\n",
    "## Condiciones de frontera\n",
    "\n",
    "- $T(0) = T_1 \\;\\Rightarrow\\; C_2 = T_1$.\n",
    "- $T(L) = T_2 \\;\\Rightarrow\\; C_1 L + T_1 = T_2$.\n",
    "\n",
    "Luego:\n",
    "\n",
    "$$\n",
    "C_1 = \\frac{T_2 - T_1}{L}\n",
    "$$\n",
    "\n",
    "\n",
    "\n",
    "## Distribución de temperatura\n",
    "\n",
    "Sustituyendo las constantes se obtiene el perfil de temperaturas, que es lineal:\n",
    "\n",
    "$$\n",
    "T(x) = T_1 + \\frac{T_2 - T_1}{L}\\,x\n",
    "$$\n"
   ]
  },
  {
   "cell_type": "code",
   "execution_count": 1,
   "id": "ed7a7a19",
   "metadata": {},
   "outputs": [
    {
     "data": {
      "application/vnd.plotly.v1+json": {
       "config": {
        "plotlyServerURL": "https://plot.ly"
       },
       "data": [
        {
         "hovertemplate": "Posición a lo largo de la barra (m)=%{x}<br>Temperatura (°C)=%{y}<extra></extra>",
         "legendgroup": "",
         "line": {
          "color": "#636efa",
          "dash": "solid"
         },
         "marker": {
          "symbol": "circle"
         },
         "mode": "lines",
         "name": "",
         "orientation": "v",
         "showlegend": false,
         "type": "scatter",
         "x": {
          "bdata": "AAAAAAAAAABbv1Kg1q+EP1u/UqDWr5Q/CB988MEHnz9bv1Kg1q+kPzJvZ0jM26k/CB988MEHrz9wZ0jM2xmyP1u/UqDWr7Q/RhdddNFFtz8yb2dIzNu5Px3HcRzHcbw/CB988MEHvz96O0Ni3s7AP3BnSMzbGcI/ZZNNNtlkwz9bv1Kg1q/EP1HrVwrU+sU/RhdddNFFxz88Q2LezpDIPzJvZ0jM28k/J5tssskmyz8dx3Ecx3HMPxPzdobEvM0/CB988MEHzz9/pUCtXynQP3o7Q2LeztA/ddFFF1100T9wZ0jM2xnSP2r9SoFav9I/ZZNNNtlk0z9gKVDrVwrUP1u/UqDWr9Q/VlVVVVVV1T9R61cK1PrVP0yBWr9SoNY/RhdddNFF1z9BrV8pUOvXPzxDYt7OkNg/N9lkk0022T8yb2dIzNvZPy0Fav1Kgdo/J5tssskm2z8iMW9nSMzbPx3HcRzHcdw/GF100UUX3T8T83aGxLzdPw6JeTtDYt4/CB988MEH3z8DtX6lQK3fP3+lQK1fKeA/ffDBBx984D96O0Ni3s7gP3eGxLydIeE/ddFFF1104T9yHMdxHMfhP3BnSMzbGeI/bbLJJpts4j9q/UqBWr/iP2hIzNsZEuM/ZZNNNtlk4z9j3s6QmLfjP2ApUOtXCuQ/XnTRRRdd5D9bv1Kg1q/kP1gK1PqVAuU/VlVVVVVV5T9ToNavFKjlP1HrVwrU+uU/TjbZZJNN5j9MgVq/UqDmP0nM2xkS8+Y/RhdddNFF5z9EYt7OkJjnP0GtXylQ6+c/P/jggw8+6D88Q2LezpDoPzmO4ziO4+g/N9lkk0026T80JObtDInpPzJvZ0jM2+k/L7rooosu6j8tBWr9SoHqPypQ61cK1Oo/J5tssskm6z8l5u0MiXnrPyIxb2dIzOs/IHzwwQcf7D8dx3Ecx3HsPxsS83aGxOw/GF100UUX7T8VqPUrBWrtPxPzdobEvO0/ED744IMP7j8OiXk7Q2LuPwvU+pUCte4/CB988MEH7z8Gav1KgVrvPwO1fqVAre8/AAAAAAAA8D8=",
          "dtype": "f8"
         },
         "xaxis": "x",
         "y": {
          "bdata": "AAAAAAAAAAB/pUCtXynwP3+lQK1fKQBAPvjggw8+CEB/pUCtXykQQN/OkJi3MxRAPvjggw8+GECfITFvZ0gcQH+lQK1fKSBAL7rooosuIkDfzpCYtzMkQI/jOI7jOCZAPvjggw8+KEDvDIl5O0MqQJ8hMW9nSCxATjbZZJNNLkB/pUCtXykwQNevFKj1KzFAL7rooosuMkCHxLydITEzQN/OkJi3MzRANtlkk002NUCP4ziO4zg2QOftDIl5OzdAPvjggw8+OECWArV+pUA5QO8MiXk7QzpARxdddNFFO0CfITFvZ0g8QPYrBWr9Sj1ATjbZZJNNPkCmQK1fKVA/QH+lQK1fKUBAq6qqqqqqQEDXrxSo9StBQAO1fqVArUFAL7rooosuQkBbv1Kg1q9CQIfEvJ0hMUNAs8kmm2yyQ0DfzpCYtzNEQAvU+pUCtURANtlkk002RUBj3s6QmLdFQI/jOI7jOEZAu+iiiy66RkDn7QyJeTtHQBPzdobEvEdAPvjggw8+SEBq/UqBWr9IQJYCtX6lQElAwwcffPDBSUDvDIl5O0NKQBoS83aGxEpARxdddNFFS0ByHMdxHMdLQJ8hMW9nSExAyiabbLLJTED2KwVq/UpNQCIxb2dIzE1ATjbZZJNNTkB7O0Ni3s5OQKZArV8pUE9A00UXXXTRT0B/pUCtXylQQBWo9SsFalBAq6qqqqqqUEBBrV8pUOtQQNevFKj1K1FAbbLJJptsUUADtX6lQK1RQJm3MyTm7VFAL7rooosuUkDFvJ0hMW9SQFu/UqDWr1JA8cEHH3zwUkCHxLydITFTQB3HcRzHcVNAs8kmm2yyU0BJzNsZEvNTQN/OkJi3M1RAddFFF110VEAL1PqVArVUQKHWrxSo9VRANtlkk002VUDN2xkS83ZVQGPezpCYt1VA+eCDDz74VUCP4ziO4zhWQCXm7QyJeVZAu+iiiy66VkBQ61cK1PpWQOftDIl5O1dAfPDBBx98V0AT83aGxLxXQKn1KwVq/VdAPvjggw8+WEDV+pUCtX5YQGr9SoFav1hAAAAAAAAAWUA=",
          "dtype": "f8"
         },
         "yaxis": "y"
        },
        {
         "mode": "markers",
         "name": "Datos ESATAN",
         "type": "scatter",
         "x": {
          "bdata": "mpmZmZmZuT8zMzMzMzPTPwAAAAAAAOA/ZmZmZmZm5j/NzMzMzMzsPwAAAAAAAAAAAAAAAAAA8D8=",
          "dtype": "f8"
         },
         "y": {
          "bdata": "AAAAAAAAJEAAAAAAAAA+QAAAAAAAAElAAAAAAACAUUAAAAAAAIBWQAAAAAAAAAAAAAAAAAAAWUA=",
          "dtype": "f8"
         }
        }
       ],
       "layout": {
        "legend": {
         "tracegroupgap": 0
        },
        "template": {
         "data": {
          "bar": [
           {
            "error_x": {
             "color": "#2a3f5f"
            },
            "error_y": {
             "color": "#2a3f5f"
            },
            "marker": {
             "line": {
              "color": "#E5ECF6",
              "width": 0.5
             },
             "pattern": {
              "fillmode": "overlay",
              "size": 10,
              "solidity": 0.2
             }
            },
            "type": "bar"
           }
          ],
          "barpolar": [
           {
            "marker": {
             "line": {
              "color": "#E5ECF6",
              "width": 0.5
             },
             "pattern": {
              "fillmode": "overlay",
              "size": 10,
              "solidity": 0.2
             }
            },
            "type": "barpolar"
           }
          ],
          "carpet": [
           {
            "aaxis": {
             "endlinecolor": "#2a3f5f",
             "gridcolor": "white",
             "linecolor": "white",
             "minorgridcolor": "white",
             "startlinecolor": "#2a3f5f"
            },
            "baxis": {
             "endlinecolor": "#2a3f5f",
             "gridcolor": "white",
             "linecolor": "white",
             "minorgridcolor": "white",
             "startlinecolor": "#2a3f5f"
            },
            "type": "carpet"
           }
          ],
          "choropleth": [
           {
            "colorbar": {
             "outlinewidth": 0,
             "ticks": ""
            },
            "type": "choropleth"
           }
          ],
          "contour": [
           {
            "colorbar": {
             "outlinewidth": 0,
             "ticks": ""
            },
            "colorscale": [
             [
              0,
              "#0d0887"
             ],
             [
              0.1111111111111111,
              "#46039f"
             ],
             [
              0.2222222222222222,
              "#7201a8"
             ],
             [
              0.3333333333333333,
              "#9c179e"
             ],
             [
              0.4444444444444444,
              "#bd3786"
             ],
             [
              0.5555555555555556,
              "#d8576b"
             ],
             [
              0.6666666666666666,
              "#ed7953"
             ],
             [
              0.7777777777777778,
              "#fb9f3a"
             ],
             [
              0.8888888888888888,
              "#fdca26"
             ],
             [
              1,
              "#f0f921"
             ]
            ],
            "type": "contour"
           }
          ],
          "contourcarpet": [
           {
            "colorbar": {
             "outlinewidth": 0,
             "ticks": ""
            },
            "type": "contourcarpet"
           }
          ],
          "heatmap": [
           {
            "colorbar": {
             "outlinewidth": 0,
             "ticks": ""
            },
            "colorscale": [
             [
              0,
              "#0d0887"
             ],
             [
              0.1111111111111111,
              "#46039f"
             ],
             [
              0.2222222222222222,
              "#7201a8"
             ],
             [
              0.3333333333333333,
              "#9c179e"
             ],
             [
              0.4444444444444444,
              "#bd3786"
             ],
             [
              0.5555555555555556,
              "#d8576b"
             ],
             [
              0.6666666666666666,
              "#ed7953"
             ],
             [
              0.7777777777777778,
              "#fb9f3a"
             ],
             [
              0.8888888888888888,
              "#fdca26"
             ],
             [
              1,
              "#f0f921"
             ]
            ],
            "type": "heatmap"
           }
          ],
          "histogram": [
           {
            "marker": {
             "pattern": {
              "fillmode": "overlay",
              "size": 10,
              "solidity": 0.2
             }
            },
            "type": "histogram"
           }
          ],
          "histogram2d": [
           {
            "colorbar": {
             "outlinewidth": 0,
             "ticks": ""
            },
            "colorscale": [
             [
              0,
              "#0d0887"
             ],
             [
              0.1111111111111111,
              "#46039f"
             ],
             [
              0.2222222222222222,
              "#7201a8"
             ],
             [
              0.3333333333333333,
              "#9c179e"
             ],
             [
              0.4444444444444444,
              "#bd3786"
             ],
             [
              0.5555555555555556,
              "#d8576b"
             ],
             [
              0.6666666666666666,
              "#ed7953"
             ],
             [
              0.7777777777777778,
              "#fb9f3a"
             ],
             [
              0.8888888888888888,
              "#fdca26"
             ],
             [
              1,
              "#f0f921"
             ]
            ],
            "type": "histogram2d"
           }
          ],
          "histogram2dcontour": [
           {
            "colorbar": {
             "outlinewidth": 0,
             "ticks": ""
            },
            "colorscale": [
             [
              0,
              "#0d0887"
             ],
             [
              0.1111111111111111,
              "#46039f"
             ],
             [
              0.2222222222222222,
              "#7201a8"
             ],
             [
              0.3333333333333333,
              "#9c179e"
             ],
             [
              0.4444444444444444,
              "#bd3786"
             ],
             [
              0.5555555555555556,
              "#d8576b"
             ],
             [
              0.6666666666666666,
              "#ed7953"
             ],
             [
              0.7777777777777778,
              "#fb9f3a"
             ],
             [
              0.8888888888888888,
              "#fdca26"
             ],
             [
              1,
              "#f0f921"
             ]
            ],
            "type": "histogram2dcontour"
           }
          ],
          "mesh3d": [
           {
            "colorbar": {
             "outlinewidth": 0,
             "ticks": ""
            },
            "type": "mesh3d"
           }
          ],
          "parcoords": [
           {
            "line": {
             "colorbar": {
              "outlinewidth": 0,
              "ticks": ""
             }
            },
            "type": "parcoords"
           }
          ],
          "pie": [
           {
            "automargin": true,
            "type": "pie"
           }
          ],
          "scatter": [
           {
            "fillpattern": {
             "fillmode": "overlay",
             "size": 10,
             "solidity": 0.2
            },
            "type": "scatter"
           }
          ],
          "scatter3d": [
           {
            "line": {
             "colorbar": {
              "outlinewidth": 0,
              "ticks": ""
             }
            },
            "marker": {
             "colorbar": {
              "outlinewidth": 0,
              "ticks": ""
             }
            },
            "type": "scatter3d"
           }
          ],
          "scattercarpet": [
           {
            "marker": {
             "colorbar": {
              "outlinewidth": 0,
              "ticks": ""
             }
            },
            "type": "scattercarpet"
           }
          ],
          "scattergeo": [
           {
            "marker": {
             "colorbar": {
              "outlinewidth": 0,
              "ticks": ""
             }
            },
            "type": "scattergeo"
           }
          ],
          "scattergl": [
           {
            "marker": {
             "colorbar": {
              "outlinewidth": 0,
              "ticks": ""
             }
            },
            "type": "scattergl"
           }
          ],
          "scattermap": [
           {
            "marker": {
             "colorbar": {
              "outlinewidth": 0,
              "ticks": ""
             }
            },
            "type": "scattermap"
           }
          ],
          "scattermapbox": [
           {
            "marker": {
             "colorbar": {
              "outlinewidth": 0,
              "ticks": ""
             }
            },
            "type": "scattermapbox"
           }
          ],
          "scatterpolar": [
           {
            "marker": {
             "colorbar": {
              "outlinewidth": 0,
              "ticks": ""
             }
            },
            "type": "scatterpolar"
           }
          ],
          "scatterpolargl": [
           {
            "marker": {
             "colorbar": {
              "outlinewidth": 0,
              "ticks": ""
             }
            },
            "type": "scatterpolargl"
           }
          ],
          "scatterternary": [
           {
            "marker": {
             "colorbar": {
              "outlinewidth": 0,
              "ticks": ""
             }
            },
            "type": "scatterternary"
           }
          ],
          "surface": [
           {
            "colorbar": {
             "outlinewidth": 0,
             "ticks": ""
            },
            "colorscale": [
             [
              0,
              "#0d0887"
             ],
             [
              0.1111111111111111,
              "#46039f"
             ],
             [
              0.2222222222222222,
              "#7201a8"
             ],
             [
              0.3333333333333333,
              "#9c179e"
             ],
             [
              0.4444444444444444,
              "#bd3786"
             ],
             [
              0.5555555555555556,
              "#d8576b"
             ],
             [
              0.6666666666666666,
              "#ed7953"
             ],
             [
              0.7777777777777778,
              "#fb9f3a"
             ],
             [
              0.8888888888888888,
              "#fdca26"
             ],
             [
              1,
              "#f0f921"
             ]
            ],
            "type": "surface"
           }
          ],
          "table": [
           {
            "cells": {
             "fill": {
              "color": "#EBF0F8"
             },
             "line": {
              "color": "white"
             }
            },
            "header": {
             "fill": {
              "color": "#C8D4E3"
             },
             "line": {
              "color": "white"
             }
            },
            "type": "table"
           }
          ]
         },
         "layout": {
          "annotationdefaults": {
           "arrowcolor": "#2a3f5f",
           "arrowhead": 0,
           "arrowwidth": 1
          },
          "autotypenumbers": "strict",
          "coloraxis": {
           "colorbar": {
            "outlinewidth": 0,
            "ticks": ""
           }
          },
          "colorscale": {
           "diverging": [
            [
             0,
             "#8e0152"
            ],
            [
             0.1,
             "#c51b7d"
            ],
            [
             0.2,
             "#de77ae"
            ],
            [
             0.3,
             "#f1b6da"
            ],
            [
             0.4,
             "#fde0ef"
            ],
            [
             0.5,
             "#f7f7f7"
            ],
            [
             0.6,
             "#e6f5d0"
            ],
            [
             0.7,
             "#b8e186"
            ],
            [
             0.8,
             "#7fbc41"
            ],
            [
             0.9,
             "#4d9221"
            ],
            [
             1,
             "#276419"
            ]
           ],
           "sequential": [
            [
             0,
             "#0d0887"
            ],
            [
             0.1111111111111111,
             "#46039f"
            ],
            [
             0.2222222222222222,
             "#7201a8"
            ],
            [
             0.3333333333333333,
             "#9c179e"
            ],
            [
             0.4444444444444444,
             "#bd3786"
            ],
            [
             0.5555555555555556,
             "#d8576b"
            ],
            [
             0.6666666666666666,
             "#ed7953"
            ],
            [
             0.7777777777777778,
             "#fb9f3a"
            ],
            [
             0.8888888888888888,
             "#fdca26"
            ],
            [
             1,
             "#f0f921"
            ]
           ],
           "sequentialminus": [
            [
             0,
             "#0d0887"
            ],
            [
             0.1111111111111111,
             "#46039f"
            ],
            [
             0.2222222222222222,
             "#7201a8"
            ],
            [
             0.3333333333333333,
             "#9c179e"
            ],
            [
             0.4444444444444444,
             "#bd3786"
            ],
            [
             0.5555555555555556,
             "#d8576b"
            ],
            [
             0.6666666666666666,
             "#ed7953"
            ],
            [
             0.7777777777777778,
             "#fb9f3a"
            ],
            [
             0.8888888888888888,
             "#fdca26"
            ],
            [
             1,
             "#f0f921"
            ]
           ]
          },
          "colorway": [
           "#636efa",
           "#EF553B",
           "#00cc96",
           "#ab63fa",
           "#FFA15A",
           "#19d3f3",
           "#FF6692",
           "#B6E880",
           "#FF97FF",
           "#FECB52"
          ],
          "font": {
           "color": "#2a3f5f"
          },
          "geo": {
           "bgcolor": "white",
           "lakecolor": "white",
           "landcolor": "#E5ECF6",
           "showlakes": true,
           "showland": true,
           "subunitcolor": "white"
          },
          "hoverlabel": {
           "align": "left"
          },
          "hovermode": "closest",
          "mapbox": {
           "style": "light"
          },
          "paper_bgcolor": "white",
          "plot_bgcolor": "#E5ECF6",
          "polar": {
           "angularaxis": {
            "gridcolor": "white",
            "linecolor": "white",
            "ticks": ""
           },
           "bgcolor": "#E5ECF6",
           "radialaxis": {
            "gridcolor": "white",
            "linecolor": "white",
            "ticks": ""
           }
          },
          "scene": {
           "xaxis": {
            "backgroundcolor": "#E5ECF6",
            "gridcolor": "white",
            "gridwidth": 2,
            "linecolor": "white",
            "showbackground": true,
            "ticks": "",
            "zerolinecolor": "white"
           },
           "yaxis": {
            "backgroundcolor": "#E5ECF6",
            "gridcolor": "white",
            "gridwidth": 2,
            "linecolor": "white",
            "showbackground": true,
            "ticks": "",
            "zerolinecolor": "white"
           },
           "zaxis": {
            "backgroundcolor": "#E5ECF6",
            "gridcolor": "white",
            "gridwidth": 2,
            "linecolor": "white",
            "showbackground": true,
            "ticks": "",
            "zerolinecolor": "white"
           }
          },
          "shapedefaults": {
           "line": {
            "color": "#2a3f5f"
           }
          },
          "ternary": {
           "aaxis": {
            "gridcolor": "white",
            "linecolor": "white",
            "ticks": ""
           },
           "baxis": {
            "gridcolor": "white",
            "linecolor": "white",
            "ticks": ""
           },
           "bgcolor": "#E5ECF6",
           "caxis": {
            "gridcolor": "white",
            "linecolor": "white",
            "ticks": ""
           }
          },
          "title": {
           "x": 0.05
          },
          "xaxis": {
           "automargin": true,
           "gridcolor": "white",
           "linecolor": "white",
           "ticks": "",
           "title": {
            "standoff": 15
           },
           "zerolinecolor": "white",
           "zerolinewidth": 2
          },
          "yaxis": {
           "automargin": true,
           "gridcolor": "white",
           "linecolor": "white",
           "ticks": "",
           "title": {
            "standoff": 15
           },
           "zerolinecolor": "white",
           "zerolinewidth": 2
          }
         }
        },
        "title": {
         "text": "Distribución de temperatura a lo largo de la barra sin disipación"
        },
        "xaxis": {
         "anchor": "y",
         "domain": [
          0,
          1
         ],
         "title": {
          "text": "Posición a lo largo de la barra (m)"
         }
        },
        "yaxis": {
         "anchor": "x",
         "domain": [
          0,
          1
         ],
         "title": {
          "text": "Temperatura (°C)"
         }
        }
       }
      },
      "image/png": "[encoded data removed]"
     },
     "metadata": {},
     "output_type": "display_data"
    }
   ],
   "source": [
    "import numpy as np\n",
    "import plotly.express as px\n",
    "\n",
    "# ----------- 1. Datos de la barra -----------\n",
    "L = 1.0\n",
    "W = 0.1\n",
    "H = 0.1\n",
    "\n",
    "# Propiedades del material\n",
    "k = 180  # Conductividad en W/m·K\n",
    "# -----------------------------------------\n",
    "\n",
    "\n",
    "# ------ 2. Condiciones de contorno ------\n",
    "T1 = 0\n",
    "T2 = 100\n",
    "# -------------------------------------\n",
    "\n",
    "\n",
    "# ------ 3. Cálculo temperatura analítica --------\n",
    "def T_lineal(x):\n",
    "    \"\"\"Calcula la temperatura en un punto x a lo largo de la barra cuando no hay disipación.\"\"\"\n",
    "    return T1 + x*(T2-T1)/L\n",
    "\n",
    "# Puntos a lo largo de la barra\n",
    "x = np.linspace(0, L, 100)\n",
    "T_analitica = T_lineal(x)\n",
    "# ---------------------------------------------\n",
    "\n",
    "\n",
    "# ------ 4. Cargar datos de ESATAN ------\n",
    "from helpers.funs import read_fx_t\n",
    "x_esatan, T_esatan = read_fx_t(\"data/esatan_barra/BARRA_NO_DISSIPATION_5.out\")\n",
    "# ------ --------------------- ------\n",
    "\n",
    "\n",
    "# ------- 5. Pintamos los resultados ------\n",
    "\n",
    "# Solucion analítica\n",
    "fig = px.line(\n",
    "    x=x,\n",
    "    y=T_analitica,\n",
    "    labels={\"x\": \"Posición a lo largo de la barra (m)\", \"y\": \"Temperatura (°C)\"},\n",
    "    title=\"Distribución de temperatura a lo largo de la barra sin disipación\",\n",
    ")\n",
    "\n",
    "# Datos de ESATAN\n",
    "fig.add_scatter(\n",
    "    x=x_esatan,\n",
    "    y=T_esatan,\n",
    "    mode=\"markers\",\n",
    "    name=\"Datos ESATAN\"\n",
    ")\n",
    "\n",
    "fig.show()\n",
    "# ---------------------------------------\n",
    "\n"
   ]
  },
  {
   "cell_type": "markdown",
   "id": "bd9fc5e7",
   "metadata": {},
   "source": [
    "# Conducción 1D en estado estacionario con generación volumétrica de calor\n",
    "\n",
    "\n",
    "$$\n",
    "0 = k \\,\\frac{d^2 T}{dx^2} + q_v\n",
    "$$\n",
    "\n",
    "donde:\n",
    "- $k$ = conductividad térmica\n",
    "- $q_v$ = generación volumétrica de calor\n",
    "\n",
    "\n",
    "\n",
    "## Solución general\n",
    "\n",
    "Reordenando e integrando dos veces:\n",
    "\n",
    "$$\n",
    "\\frac{d^2 T}{dx^2} = -\\frac{q_v}{k}\n",
    "$$\n",
    "\n",
    "\n",
    "$$\n",
    "T(x) = -\\frac{q_v}{2k}x^2 + C_1 x + C_2\n",
    "$$\n",
    "\n",
    "\n",
    "\n",
    "## Condiciones de frontera\n",
    "\n",
    "- $T(0) = T_1 \\;\\Rightarrow\\; C_2 = T_1$.\n",
    "-  $T(L) = T_2 \\;\\Rightarrow\\; -\\frac{q_v}{2k}L^2 + C_1 L + T_1 = T_2$.\n",
    "\n",
    "De aquí se obtiene:\n",
    "\n",
    "$$\n",
    "C_1 = \\frac{T_2 - T_1}{L} + \\frac{q_v L}{2k}\n",
    "$$\n",
    "\n",
    "\n",
    "\n",
    "## Distribución de temperatura\n",
    "\n",
    "Sustituyendo las constantes se obtiene la distribución:\n",
    "\n",
    "$$\n",
    "T(x) = T_1 + \\frac{T_2 - T_1}{L} \\,x + \\frac{q_v}{2k}\\left(Lx - x^2\\right)\n",
    "$$\n"
   ]
  },
  {
   "cell_type": "code",
   "execution_count": 2,
   "id": "c6900c1a",
   "metadata": {},
   "outputs": [
    {
     "data": {
      "application/vnd.plotly.v1+json": {
       "config": {
        "plotlyServerURL": "https://plot.ly"
       },
       "data": [
        {
         "hovertemplate": "Posición a lo largo de la barra (m)=%{x}<br>Temperatura (°C)=%{y}<extra></extra>",
         "legendgroup": "",
         "line": {
          "color": "#636efa",
          "dash": "solid"
         },
         "marker": {
          "symbol": "circle"
         },
         "mode": "lines",
         "name": "",
         "orientation": "v",
         "showlegend": false,
         "type": "scatter",
         "x": {
          "bdata": "AAAAAAAAAABbv1Kg1q+EP1u/UqDWr5Q/CB988MEHnz9bv1Kg1q+kPzJvZ0jM26k/CB988MEHrz9wZ0jM2xmyP1u/UqDWr7Q/RhdddNFFtz8yb2dIzNu5Px3HcRzHcbw/CB988MEHvz96O0Ni3s7AP3BnSMzbGcI/ZZNNNtlkwz9bv1Kg1q/EP1HrVwrU+sU/RhdddNFFxz88Q2LezpDIPzJvZ0jM28k/J5tssskmyz8dx3Ecx3HMPxPzdobEvM0/CB988MEHzz9/pUCtXynQP3o7Q2LeztA/ddFFF1100T9wZ0jM2xnSP2r9SoFav9I/ZZNNNtlk0z9gKVDrVwrUP1u/UqDWr9Q/VlVVVVVV1T9R61cK1PrVP0yBWr9SoNY/RhdddNFF1z9BrV8pUOvXPzxDYt7OkNg/N9lkk0022T8yb2dIzNvZPy0Fav1Kgdo/J5tssskm2z8iMW9nSMzbPx3HcRzHcdw/GF100UUX3T8T83aGxLzdPw6JeTtDYt4/CB988MEH3z8DtX6lQK3fP3+lQK1fKeA/ffDBBx984D96O0Ni3s7gP3eGxLydIeE/ddFFF1104T9yHMdxHMfhP3BnSMzbGeI/bbLJJpts4j9q/UqBWr/iP2hIzNsZEuM/ZZNNNtlk4z9j3s6QmLfjP2ApUOtXCuQ/XnTRRRdd5D9bv1Kg1q/kP1gK1PqVAuU/VlVVVVVV5T9ToNavFKjlP1HrVwrU+uU/TjbZZJNN5j9MgVq/UqDmP0nM2xkS8+Y/RhdddNFF5z9EYt7OkJjnP0GtXylQ6+c/P/jggw8+6D88Q2LezpDoPzmO4ziO4+g/N9lkk0026T80JObtDInpPzJvZ0jM2+k/L7rooosu6j8tBWr9SoHqPypQ61cK1Oo/J5tssskm6z8l5u0MiXnrPyIxb2dIzOs/IHzwwQcf7D8dx3Ecx3HsPxsS83aGxOw/GF100UUX7T8VqPUrBWrtPxPzdobEvO0/ED744IMP7j8OiXk7Q2LuPwvU+pUCte4/CB988MEH7z8Gav1KgVrvPwO1fqVAre8/AAAAAAAA8D8=",
          "dtype": "f8"
         },
         "xaxis": "x",
         "y": {
          "bdata": "AAAAAAAAAAAqCSjN/kwOQPZn8ovzEh5AEJUNOK5iJkCMJYcJ3Z4tQLbyMh0DXzJAWOpU5RTgNUCueSndo1I5QLagsASwtjxAuC/1rRwGQEDvWmvxn6lBQP/RuszhRUNA6JTjP+LaRECro+VKoWhGQEf+wO0e70dAvKR1KFtuSUAKlwP7VeZKQDLVamUPV0xANF+rZ4fATUAQNcUBviJPQGEr3JnZPlBAKGLCfrPoUEDcPpWv7I5RQHzBVCyFMVJACOoA9XzQUkCBuJkJ1GtTQOgsH2qKA1RAOkeRFqCXVEB6B/AOFShVQKZtO1PptFVAvnlz4xw+VkDDK5i/r8NWQLaDqeehRVdAlIGnW/PDV0BfJZIbpD5YQBdvaSe0tVhAvF4tfyMpWUBO9N0i8phZQMwvexIgBVpANhEFTq1tWkCOmHvVmdJaQNLF3qjlM1tAAZkuyJCRW0AeEmszm+tbQCoxlOoEQlxAIPap7c2UXEACYaw89uNcQNRxm9d9L11Ajyh3vmR3XUA4hT/xqrtdQM6H9G9Q/F1AUjCWOlU5XkDAfiRRuXJeQB1zn7N8qF5AZg0HYp/aXkCaTVtcIQlfQLwznKICNF9Ay7/JNENbX0DH8eMS435fQK7J6jzinl9Ag0feskC7X0BGa750/tNfQPM0i4Ib6V9AjKRE3Jf6X0AKXfXAOQRgQMS6vjlXCWBAdGt+WKQMYEAbbzQdIQ5gQLjF4IfNDWBATG+DmKkLYEDVaxxPtQdgQFW7q6vwAWBAmLtiXLf0X0Bwplqt7OFfQDY3P0qBy19A6G0QM3WxX0CHSs5nyJNfQBTNeOh6cl9AjfUPtYxNX0Dzw5PN/SRfQEI4BDLO+F5AglJh4v3IXkCtEqvejJVeQMZ44SZ7Xl5AyYQEu8gjXkC8NhSbdeVdQJmOEMeBo11AZIz5Pu1dXUAcMM8CuBRdQL55kRLix1xAUGlAbmt3XEDM/tsVVCNcQDY6ZAmcy1tAjhvZSENwW0DRojrUSRFbQADQiKuvrlpAHaPDznRIWkAmHOs9md5ZQBw7//gccVlAAAAAAAAAWUA=",
          "dtype": "f8"
         },
         "yaxis": "y"
        },
        {
         "mode": "markers",
         "name": "Datos ESATAN",
         "type": "scatter",
         "x": {
          "bdata": "mpmZmZmZuT8zMzMzMzPTPwAAAAAAAOA/ZmZmZmZm5j/NzMzMzMzsPwAAAAAAAAAAAAAAAAAA8D8=",
          "dtype": "f8"
         },
         "y": {
          "bdata": "pHA9CtfjQkDXo3A9CsdWQK5H4XoUjl5A7FG4HoVjYEBSuB6F63FdQAAAAAAAAAAAAAAAAAAAWUA=",
          "dtype": "f8"
         }
        }
       ],
       "layout": {
        "legend": {
         "tracegroupgap": 0
        },
        "template": {
         "data": {
          "bar": [
           {
            "error_x": {
             "color": "#2a3f5f"
            },
            "error_y": {
             "color": "#2a3f5f"
            },
            "marker": {
             "line": {
              "color": "#E5ECF6",
              "width": 0.5
             },
             "pattern": {
              "fillmode": "overlay",
              "size": 10,
              "solidity": 0.2
             }
            },
            "type": "bar"
           }
          ],
          "barpolar": [
           {
            "marker": {
             "line": {
              "color": "#E5ECF6",
              "width": 0.5
             },
             "pattern": {
              "fillmode": "overlay",
              "size": 10,
              "solidity": 0.2
             }
            },
            "type": "barpolar"
           }
          ],
          "carpet": [
           {
            "aaxis": {
             "endlinecolor": "#2a3f5f",
             "gridcolor": "white",
             "linecolor": "white",
             "minorgridcolor": "white",
             "startlinecolor": "#2a3f5f"
            },
            "baxis": {
             "endlinecolor": "#2a3f5f",
             "gridcolor": "white",
             "linecolor": "white",
             "minorgridcolor": "white",
             "startlinecolor": "#2a3f5f"
            },
            "type": "carpet"
           }
          ],
          "choropleth": [
           {
            "colorbar": {
             "outlinewidth": 0,
             "ticks": ""
            },
            "type": "choropleth"
           }
          ],
          "contour": [
           {
            "colorbar": {
             "outlinewidth": 0,
             "ticks": ""
            },
            "colorscale": [
             [
              0,
              "#0d0887"
             ],
             [
              0.1111111111111111,
              "#46039f"
             ],
             [
              0.2222222222222222,
              "#7201a8"
             ],
             [
              0.3333333333333333,
              "#9c179e"
             ],
             [
              0.4444444444444444,
              "#bd3786"
             ],
             [
              0.5555555555555556,
              "#d8576b"
             ],
             [
              0.6666666666666666,
              "#ed7953"
             ],
             [
              0.7777777777777778,
              "#fb9f3a"
             ],
             [
              0.8888888888888888,
              "#fdca26"
             ],
             [
              1,
              "#f0f921"
             ]
            ],
            "type": "contour"
           }
          ],
          "contourcarpet": [
           {
            "colorbar": {
             "outlinewidth": 0,
             "ticks": ""
            },
            "type": "contourcarpet"
           }
          ],
          "heatmap": [
           {
            "colorbar": {
             "outlinewidth": 0,
             "ticks": ""
            },
            "colorscale": [
             [
              0,
              "#0d0887"
             ],
             [
              0.1111111111111111,
              "#46039f"
             ],
             [
              0.2222222222222222,
              "#7201a8"
             ],
             [
              0.3333333333333333,
              "#9c179e"
             ],
             [
              0.4444444444444444,
              "#bd3786"
             ],
             [
              0.5555555555555556,
              "#d8576b"
             ],
             [
              0.6666666666666666,
              "#ed7953"
             ],
             [
              0.7777777777777778,
              "#fb9f3a"
             ],
             [
              0.8888888888888888,
              "#fdca26"
             ],
             [
              1,
              "#f0f921"
             ]
            ],
            "type": "heatmap"
           }
          ],
          "histogram": [
           {
            "marker": {
             "pattern": {
              "fillmode": "overlay",
              "size": 10,
              "solidity": 0.2
             }
            },
            "type": "histogram"
           }
          ],
          "histogram2d": [
           {
            "colorbar": {
             "outlinewidth": 0,
             "ticks": ""
            },
            "colorscale": [
             [
              0,
              "#0d0887"
             ],
             [
              0.1111111111111111,
              "#46039f"
             ],
             [
              0.2222222222222222,
              "#7201a8"
             ],
             [
              0.3333333333333333,
              "#9c179e"
             ],
             [
              0.4444444444444444,
              "#bd3786"
             ],
             [
              0.5555555555555556,
              "#d8576b"
             ],
             [
              0.6666666666666666,
              "#ed7953"
             ],
             [
              0.7777777777777778,
              "#fb9f3a"
             ],
             [
              0.8888888888888888,
              "#fdca26"
             ],
             [
              1,
              "#f0f921"
             ]
            ],
            "type": "histogram2d"
           }
          ],
          "histogram2dcontour": [
           {
            "colorbar": {
             "outlinewidth": 0,
             "ticks": ""
            },
            "colorscale": [
             [
              0,
              "#0d0887"
             ],
             [
              0.1111111111111111,
              "#46039f"
             ],
             [
              0.2222222222222222,
              "#7201a8"
             ],
             [
              0.3333333333333333,
              "#9c179e"
             ],
             [
              0.4444444444444444,
              "#bd3786"
             ],
             [
              0.5555555555555556,
              "#d8576b"
             ],
             [
              0.6666666666666666,
              "#ed7953"
             ],
             [
              0.7777777777777778,
              "#fb9f3a"
             ],
             [
              0.8888888888888888,
              "#fdca26"
             ],
             [
              1,
              "#f0f921"
             ]
            ],
            "type": "histogram2dcontour"
           }
          ],
          "mesh3d": [
           {
            "colorbar": {
             "outlinewidth": 0,
             "ticks": ""
            },
            "type": "mesh3d"
           }
          ],
          "parcoords": [
           {
            "line": {
             "colorbar": {
              "outlinewidth": 0,
              "ticks": ""
             }
            },
            "type": "parcoords"
           }
          ],
          "pie": [
           {
            "automargin": true,
            "type": "pie"
           }
          ],
          "scatter": [
           {
            "fillpattern": {
             "fillmode": "overlay",
             "size": 10,
             "solidity": 0.2
            },
            "type": "scatter"
           }
          ],
          "scatter3d": [
           {
            "line": {
             "colorbar": {
              "outlinewidth": 0,
              "ticks": ""
             }
            },
            "marker": {
             "colorbar": {
              "outlinewidth": 0,
              "ticks": ""
             }
            },
            "type": "scatter3d"
           }
          ],
          "scattercarpet": [
           {
            "marker": {
             "colorbar": {
              "outlinewidth": 0,
              "ticks": ""
             }
            },
            "type": "scattercarpet"
           }
          ],
          "scattergeo": [
           {
            "marker": {
             "colorbar": {
              "outlinewidth": 0,
              "ticks": ""
             }
            },
            "type": "scattergeo"
           }
          ],
          "scattergl": [
           {
            "marker": {
             "colorbar": {
              "outlinewidth": 0,
              "ticks": ""
             }
            },
            "type": "scattergl"
           }
          ],
          "scattermap": [
           {
            "marker": {
             "colorbar": {
              "outlinewidth": 0,
              "ticks": ""
             }
            },
            "type": "scattermap"
           }
          ],
          "scattermapbox": [
           {
            "marker": {
             "colorbar": {
              "outlinewidth": 0,
              "ticks": ""
             }
            },
            "type": "scattermapbox"
           }
          ],
          "scatterpolar": [
           {
            "marker": {
             "colorbar": {
              "outlinewidth": 0,
              "ticks": ""
             }
            },
            "type": "scatterpolar"
           }
          ],
          "scatterpolargl": [
           {
            "marker": {
             "colorbar": {
              "outlinewidth": 0,
              "ticks": ""
             }
            },
            "type": "scatterpolargl"
           }
          ],
          "scatterternary": [
           {
            "marker": {
             "colorbar": {
              "outlinewidth": 0,
              "ticks": ""
             }
            },
            "type": "scatterternary"
           }
          ],
          "surface": [
           {
            "colorbar": {
             "outlinewidth": 0,
             "ticks": ""
            },
            "colorscale": [
             [
              0,
              "#0d0887"
             ],
             [
              0.1111111111111111,
              "#46039f"
             ],
             [
              0.2222222222222222,
              "#7201a8"
             ],
             [
              0.3333333333333333,
              "#9c179e"
             ],
             [
              0.4444444444444444,
              "#bd3786"
             ],
             [
              0.5555555555555556,
              "#d8576b"
             ],
             [
              0.6666666666666666,
              "#ed7953"
             ],
             [
              0.7777777777777778,
              "#fb9f3a"
             ],
             [
              0.8888888888888888,
              "#fdca26"
             ],
             [
              1,
              "#f0f921"
             ]
            ],
            "type": "surface"
           }
          ],
          "table": [
           {
            "cells": {
             "fill": {
              "color": "#EBF0F8"
             },
             "line": {
              "color": "white"
             }
            },
            "header": {
             "fill": {
              "color": "#C8D4E3"
             },
             "line": {
              "color": "white"
             }
            },
            "type": "table"
           }
          ]
         },
         "layout": {
          "annotationdefaults": {
           "arrowcolor": "#2a3f5f",
           "arrowhead": 0,
           "arrowwidth": 1
          },
          "autotypenumbers": "strict",
          "coloraxis": {
           "colorbar": {
            "outlinewidth": 0,
            "ticks": ""
           }
          },
          "colorscale": {
           "diverging": [
            [
             0,
             "#8e0152"
            ],
            [
             0.1,
             "#c51b7d"
            ],
            [
             0.2,
             "#de77ae"
            ],
            [
             0.3,
             "#f1b6da"
            ],
            [
             0.4,
             "#fde0ef"
            ],
            [
             0.5,
             "#f7f7f7"
            ],
            [
             0.6,
             "#e6f5d0"
            ],
            [
             0.7,
             "#b8e186"
            ],
            [
             0.8,
             "#7fbc41"
            ],
            [
             0.9,
             "#4d9221"
            ],
            [
             1,
             "#276419"
            ]
           ],
           "sequential": [
            [
             0,
             "#0d0887"
            ],
            [
             0.1111111111111111,
             "#46039f"
            ],
            [
             0.2222222222222222,
             "#7201a8"
            ],
            [
             0.3333333333333333,
             "#9c179e"
            ],
            [
             0.4444444444444444,
             "#bd3786"
            ],
            [
             0.5555555555555556,
             "#d8576b"
            ],
            [
             0.6666666666666666,
             "#ed7953"
            ],
            [
             0.7777777777777778,
             "#fb9f3a"
            ],
            [
             0.8888888888888888,
             "#fdca26"
            ],
            [
             1,
             "#f0f921"
            ]
           ],
           "sequentialminus": [
            [
             0,
             "#0d0887"
            ],
            [
             0.1111111111111111,
             "#46039f"
            ],
            [
             0.2222222222222222,
             "#7201a8"
            ],
            [
             0.3333333333333333,
             "#9c179e"
            ],
            [
             0.4444444444444444,
             "#bd3786"
            ],
            [
             0.5555555555555556,
             "#d8576b"
            ],
            [
             0.6666666666666666,
             "#ed7953"
            ],
            [
             0.7777777777777778,
             "#fb9f3a"
            ],
            [
             0.8888888888888888,
             "#fdca26"
            ],
            [
             1,
             "#f0f921"
            ]
           ]
          },
          "colorway": [
           "#636efa",
           "#EF553B",
           "#00cc96",
           "#ab63fa",
           "#FFA15A",
           "#19d3f3",
           "#FF6692",
           "#B6E880",
           "#FF97FF",
           "#FECB52"
          ],
          "font": {
           "color": "#2a3f5f"
          },
          "geo": {
           "bgcolor": "white",
           "lakecolor": "white",
           "landcolor": "#E5ECF6",
           "showlakes": true,
           "showland": true,
           "subunitcolor": "white"
          },
          "hoverlabel": {
           "align": "left"
          },
          "hovermode": "closest",
          "mapbox": {
           "style": "light"
          },
          "paper_bgcolor": "white",
          "plot_bgcolor": "#E5ECF6",
          "polar": {
           "angularaxis": {
            "gridcolor": "white",
            "linecolor": "white",
            "ticks": ""
           },
           "bgcolor": "#E5ECF6",
           "radialaxis": {
            "gridcolor": "white",
            "linecolor": "white",
            "ticks": ""
           }
          },
          "scene": {
           "xaxis": {
            "backgroundcolor": "#E5ECF6",
            "gridcolor": "white",
            "gridwidth": 2,
            "linecolor": "white",
            "showbackground": true,
            "ticks": "",
            "zerolinecolor": "white"
           },
           "yaxis": {
            "backgroundcolor": "#E5ECF6",
            "gridcolor": "white",
            "gridwidth": 2,
            "linecolor": "white",
            "showbackground": true,
            "ticks": "",
            "zerolinecolor": "white"
           },
           "zaxis": {
            "backgroundcolor": "#E5ECF6",
            "gridcolor": "white",
            "gridwidth": 2,
            "linecolor": "white",
            "showbackground": true,
            "ticks": "",
            "zerolinecolor": "white"
           }
          },
          "shapedefaults": {
           "line": {
            "color": "#2a3f5f"
           }
          },
          "ternary": {
           "aaxis": {
            "gridcolor": "white",
            "linecolor": "white",
            "ticks": ""
           },
           "baxis": {
            "gridcolor": "white",
            "linecolor": "white",
            "ticks": ""
           },
           "bgcolor": "#E5ECF6",
           "caxis": {
            "gridcolor": "white",
            "linecolor": "white",
            "ticks": ""
           }
          },
          "title": {
           "x": 0.05
          },
          "xaxis": {
           "automargin": true,
           "gridcolor": "white",
           "linecolor": "white",
           "ticks": "",
           "title": {
            "standoff": 15
           },
           "zerolinecolor": "white",
           "zerolinewidth": 2
          },
          "yaxis": {
           "automargin": true,
           "gridcolor": "white",
           "linecolor": "white",
           "ticks": "",
           "title": {
            "standoff": 15
           },
           "zerolinecolor": "white",
           "zerolinewidth": 2
          }
         }
        },
        "title": {
         "text": "Distribución de temperatura a lo largo de la barra con disipación"
        },
        "xaxis": {
         "anchor": "y",
         "domain": [
          0,
          1
         ],
         "title": {
          "text": "Posición a lo largo de la barra (m)"
         }
        },
        "yaxis": {
         "anchor": "x",
         "domain": [
          0,
          1
         ],
         "title": {
          "text": "Temperatura (°C)"
         }
        }
       }
      },
      "image/png": "[encoded data removed]"
     },
     "metadata": {},
     "output_type": "display_data"
    }
   ],
   "source": [
    "import numpy as np\n",
    "import plotly.express as px\n",
    "\n",
    "# ----------- 1. Datos de la barra -----------\n",
    "L = 1.0\n",
    "W = 0.1\n",
    "H = 0.1\n",
    "\n",
    "# Propiedades del material\n",
    "k = 180  # Conductividad en W/m·K\n",
    "\n",
    "# Flujo de calor volumétrico\n",
    "q = 1000 / (L * W * H)  # W/m^3\n",
    "# -----------------------------------------\n",
    "\n",
    "# ------ 2. Condiciones de contorno ------\n",
    "T1 = 0\n",
    "T2 = 100\n",
    "# -------------------------------------\n",
    "\n",
    "\n",
    "# ------ 3. Cálculo temperatura analítica --------\n",
    "def T_disipacion(x):\n",
    "    \"\"\"Calcula la temperatura en un punto x a lo largo de la barra cuando hay disipación.\"\"\"\n",
    "    return T1 + (T2 - T1) * (x / L) + (q / (2 * k)) * (L * x - x**2)\n",
    "\n",
    "# Puntos a lo largo de la barra\n",
    "x = np.linspace(0, L, 100)\n",
    "T_analitica = T_disipacion(x)\n",
    "# ---------------------------------------------\n",
    "\n",
    "\n",
    "\n",
    "# ------ 4. Cargar datos de ESATAN ------\n",
    "from helpers.funs import read_fx_t\n",
    "x_esatan, T_esatan = read_fx_t(\"data/esatan_barra/BARRA_DISSIPATION_5.out\")\n",
    "# ------ --------------------- ------\n",
    "\n",
    "\n",
    "# ------- 5. Pintamos los resultados ------\n",
    "\n",
    "# Solucion analítica\n",
    "fig = px.line(\n",
    "    x=x,\n",
    "    y=T_analitica,\n",
    "    labels={\"x\": \"Posición a lo largo de la barra (m)\", \"y\": \"Temperatura (°C)\"},\n",
    "    title=\"Distribución de temperatura a lo largo de la barra con disipación\",\n",
    ")\n",
    "\n",
    "# Datos de ESATAN\n",
    "fig.add_scatter(\n",
    "    x=x_esatan,\n",
    "    y=T_esatan,\n",
    "    mode=\"markers\",\n",
    "    name=\"Datos ESATAN\"\n",
    ")\n",
    "\n",
    "fig.show()\n",
    "# ---------------------------------------\n"
   ]
  },
  {
   "cell_type": "markdown",
   "id": "427dbc0a",
   "metadata": {},
   "source": [
    "# Barra 3D\n",
    "Ejecuta la celda anterior para que los datos de la barra estén disponibles"
   ]
  },
  {
   "cell_type": "code",
   "execution_count": 3,
   "id": "134711bb",
   "metadata": {},
   "outputs": [
    {
     "data": {
      "application/vnd.jupyter.widget-view+json": {
       "model_id": "3481659f28ef44c6a5c6cdb622b03059",
       "version_major": 2,
       "version_minor": 0
      },
      "text/plain": [
       "Widget(value='<iframe src=\"http://localhost:53534/index.html?ui=P_0x1d96d4d56a0_0&reconnect=auto\" class=\"pyvis…"
      ]
     },
     "metadata": {},
     "output_type": "display_data"
    }
   ],
   "source": [
    "import pyvista as pv\n",
    "import helpers.configure_pyvista_notebook\n",
    "\n",
    "\n",
    "# --- Crea un modelo 3D de la barra --\n",
    "Nx = 100\n",
    "x_coords = np.linspace(0, L, Nx)\n",
    "y_coords = np.array([-W/2,  W/2])\n",
    "z_coords = np.array([-H/2,  H/2])\n",
    "grid = pv.RectilinearGrid(x_coords, y_coords, z_coords)\n",
    "\n",
    "# Calcula las temperaturas en el centro de cada celda\n",
    "T_cells = T_disipacion(x_coords[:-1] + np.diff(x_coords)) # Necesitamos la x en el centro\n",
    "\n",
    "# Asigna las temperaturas a las celdas de la malla\n",
    "grid.cell_data.clear()\n",
    "grid.cell_data['temperature'] = T_cells\n",
    "# -------------------------------------\n",
    "\n",
    "\n",
    "# --- Visualiza el modelo interactivo de la barra en 3D ---\n",
    "p = pv.Plotter()\n",
    "p.add_mesh(\n",
    "    grid,\n",
    "    scalars='temperature',\n",
    "    cmap='turbo',\n",
    "    show_edges=True,\n",
    "    edge_color='black',\n",
    "    lighting=True,\n",
    "    smooth_shading=False\n",
    ")\n",
    "\n",
    "p.add_bounding_box(color='gray')\n",
    "p.show()\n",
    "# -------------------------------------------------------"
   ]
  },
  {
   "cell_type": "code",
   "execution_count": null,
   "id": "88810733-058c-4b0f-8447-94a41bc449ca",
   "metadata": {},
   "outputs": [],
   "source": []
  }
 ],
 "metadata": {
  "kernelspec": {
   "display_name": "Python 3 (ipykernel)",
   "language": "python",
   "name": "python3"
  },
  "language_info": {
   "codemirror_mode": {
    "name": "ipython",
    "version": 3
   },
   "file_extension": ".py",
   "mimetype": "text/x-python",
   "name": "python",
   "nbconvert_exporter": "python",
   "pygments_lexer": "ipython3",
   "version": "3.13.7"
  }
 },
 "nbformat": 4,
 "nbformat_minor": 5
}
